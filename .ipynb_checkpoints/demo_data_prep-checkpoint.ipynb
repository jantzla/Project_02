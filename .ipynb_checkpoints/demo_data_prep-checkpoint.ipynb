{
 "cells": [
  {
   "cell_type": "markdown",
   "id": "47c8b0af",
   "metadata": {},
   "source": [
    "# National Health and Nutrition Examination Survey\n",
    "Data from 1990-2020"
   ]
  },
  {
   "cell_type": "code",
   "execution_count": 3,
   "id": "18ce3add",
   "metadata": {},
   "outputs": [],
   "source": [
    "# Libaries\n",
    "import pandas as pd\n",
    "import numpy as np\n",
    "import xport\n",
    "import seaborn as sns\n",
    "import matplotlib.pyplot as plt\n",
    "%matplotlib inline\n",
    "\n",
    "import pymysql\n",
    "from sqlalchemy import create_engine\n",
    "\n",
    "import warnings\n",
    "warnings.filterwarnings('ignore')"
   ]
  },
  {
   "cell_type": "markdown",
   "id": "f1fedbcd",
   "metadata": {},
   "source": [
    "# Demographic Data"
   ]
  },
  {
   "cell_type": "code",
   "execution_count": 4,
   "id": "7efa57e3",
   "metadata": {},
   "outputs": [],
   "source": [
    "# 1999-2000\n",
    "with open(r\"C:\\Users\\ljant\\Downloads\\DEMO.XPT\", 'rb') as f: df = xport.to_dataframe(f)\n",
    "df.to_csv('demo_file_00.csv', index=False)\n",
    "df_00 = pd.read_csv(r\"C:\\Users\\ljant\\Desktop\\Ironhack\\Projects\\Project_2\\Raw_datafiles\\Demo\\demo_file_00.csv\")\n",
    "df_00['year'] = df_00['year'] = 2000"
   ]
  },
  {
   "cell_type": "code",
   "execution_count": 5,
   "id": "ca5ccede",
   "metadata": {},
   "outputs": [],
   "source": [
    "# 2001-2002\n",
    "with open(r\"C:\\Users\\ljant\\Downloads\\DEMO_B.XPT\", 'rb') as f: df = xport.to_dataframe(f)\n",
    "df.to_csv('demo_file_02.csv', index=False)\n",
    "df_02 = pd.read_csv(r\"C:\\Users\\ljant\\Desktop\\Ironhack\\Projects\\Project_2\\Raw_datafiles\\Demo\\demo_file_02.csv\")\n",
    "df_02['year'] = df_00['year'] = 2002"
   ]
  },
  {
   "cell_type": "code",
   "execution_count": 6,
   "id": "6ad3fa43",
   "metadata": {},
   "outputs": [],
   "source": [
    "# 2003-2004\n",
    "with open(r\"C:\\Users\\ljant\\Downloads\\DEMO_C.XPT\", 'rb') as f: df = xport.to_dataframe(f)\n",
    "df.to_csv('demo_file_04.csv', index=False)\n",
    "df_04 = pd.read_csv(r\"C:\\Users\\ljant\\Desktop\\Ironhack\\Projects\\Project_2\\Raw_datafiles\\Demo\\demo_file_04.csv\")\n",
    "df_04['year'] = df_04['year'] = 2004"
   ]
  },
  {
   "cell_type": "code",
   "execution_count": 7,
   "id": "3dbb584a",
   "metadata": {},
   "outputs": [],
   "source": [
    "# 2005-2006\n",
    "with open(r\"C:\\Users\\ljant\\Downloads\\DEMO_D.XPT\", 'rb') as f: df = xport.to_dataframe(f)\n",
    "df.to_csv('demo_file_06.csv', index=False)\n",
    "df_06 = pd.read_csv(r\"C:\\Users\\ljant\\Desktop\\Ironhack\\Projects\\Project_2\\Raw_datafiles\\Demo\\demo_file_06.csv\")\n",
    "df_06['year'] = df_06['year'] = 2006"
   ]
  },
  {
   "cell_type": "code",
   "execution_count": 8,
   "id": "4068b437",
   "metadata": {},
   "outputs": [],
   "source": [
    "# 2007-2008\n",
    "with open(r\"C:\\Users\\ljant\\Downloads\\DEMO_E.XPT\", 'rb') as f: df = xport.to_dataframe(f)\n",
    "df.to_csv('demo_file_08.csv', index=False)\n",
    "df_08 = pd.read_csv(r\"C:\\Users\\ljant\\Desktop\\Ironhack\\Projects\\Project_2\\Raw_datafiles\\Demo\\demo_file_08.csv\")\n",
    "df_08['year'] = df_08['year'] = 2008"
   ]
  },
  {
   "cell_type": "code",
   "execution_count": 9,
   "id": "faba2f6c",
   "metadata": {},
   "outputs": [],
   "source": [
    "# 2009-2010\n",
    "with open(r\"C:\\Users\\ljant\\Downloads\\DEMO_F.XPT\", 'rb') as f: df = xport.to_dataframe(f)\n",
    "df.to_csv('demo_file_10.csv', index=False)\n",
    "df_10 = pd.read_csv(r\"C:\\Users\\ljant\\Desktop\\Ironhack\\Projects\\Project_2\\Raw_datafiles\\Demo\\demo_file_10.csv\")\n",
    "df_10['year'] = df_10['year'] = 2010"
   ]
  },
  {
   "cell_type": "code",
   "execution_count": 10,
   "id": "19380eed",
   "metadata": {},
   "outputs": [],
   "source": [
    "# 2011-2012\n",
    "with open(r\"C:\\Users\\ljant\\Downloads\\DEMO_G.XPT\", 'rb') as f: df = xport.to_dataframe(f)\n",
    "df.to_csv('demo_file_12.csv', index=False)\n",
    "df_12 = pd.read_csv(r\"C:\\Users\\ljant\\Desktop\\Ironhack\\Projects\\Project_2\\Raw_datafiles\\Demo\\demo_file_12.csv\")\n",
    "df_12['year'] = df_12['year'] = 2012"
   ]
  },
  {
   "cell_type": "code",
   "execution_count": 11,
   "id": "08713fd6",
   "metadata": {},
   "outputs": [],
   "source": [
    "# 2013-2014\n",
    "with open(r\"C:\\Users\\ljant\\Downloads\\DEMO_H.XPT\", 'rb') as f: df = xport.to_dataframe(f)\n",
    "df.to_csv('demo_file_14.csv', index=False)\n",
    "df_14 = pd.read_csv(r\"C:\\Users\\ljant\\Desktop\\Ironhack\\Projects\\Project_2\\Raw_datafiles\\Demo\\demo_file_14.csv\")\n",
    "df_14['year'] = df_14['year'] = 2014"
   ]
  },
  {
   "cell_type": "code",
   "execution_count": 12,
   "id": "57a4b6f5",
   "metadata": {},
   "outputs": [],
   "source": [
    "# 2015-2016\n",
    "with open(r\"C:\\Users\\ljant\\Downloads\\DEMO_I.XPT\", 'rb') as f: df = xport.to_dataframe(f)\n",
    "df.to_csv('demo_file_16.csv', index=False)\n",
    "df_16 = pd.read_csv(r\"C:\\Users\\ljant\\Desktop\\Ironhack\\Projects\\Project_2\\Raw_datafiles\\Demo\\demo_file_16.csv\")\n",
    "df_16['year'] = df_16['year'] = 2016"
   ]
  },
  {
   "cell_type": "code",
   "execution_count": 13,
   "id": "9b723dac",
   "metadata": {},
   "outputs": [],
   "source": [
    "# 2017-2020\n",
    "with open(r\"C:\\Users\\ljant\\Downloads\\P_DEMO.XPT\", 'rb') as f: df = xport.to_dataframe(f)\n",
    "df.to_csv('demo_file_20.csv', index=False)\n",
    "df_20 = pd.read_csv(r\"C:\\Users\\ljant\\Desktop\\Ironhack\\Projects\\Project_2\\Raw_datafiles\\Demo\\demo_file_20.csv\")\n",
    "df_20['year'] = df_20['year'] = 2020"
   ]
  },
  {
   "cell_type": "code",
   "execution_count": 14,
   "id": "8b0ad068",
   "metadata": {},
   "outputs": [],
   "source": [
    "# Getting only the columns I need.\n",
    "col_decoder = {\n",
    "    'SEQN': 'patient_id',\n",
    "    'year': 'year', \n",
    "    'RIAGENDR': 'gender',\n",
    "    'RIDAGEYR': 'age'\n",
    "}\n",
    "df_00 = df_00[list(col_decoder.keys())].rename(columns=col_decoder)\n",
    "df_02 = df_02[list(col_decoder.keys())].rename(columns=col_decoder)\n",
    "df_04 = df_04[list(col_decoder.keys())].rename(columns=col_decoder)\n",
    "df_06 = df_06[list(col_decoder.keys())].rename(columns=col_decoder)\n",
    "df_08 = df_08[list(col_decoder.keys())].rename(columns=col_decoder)\n",
    "df_10 = df_10[list(col_decoder.keys())].rename(columns=col_decoder)\n",
    "df_12 = df_12[list(col_decoder.keys())].rename(columns=col_decoder)\n",
    "df_14 = df_14[list(col_decoder.keys())].rename(columns=col_decoder)\n",
    "df_16 = df_16[list(col_decoder.keys())].rename(columns=col_decoder)\n",
    "df_20 = df_20[list(col_decoder.keys())].rename(columns=col_decoder)"
   ]
  },
  {
   "cell_type": "code",
   "execution_count": 15,
   "id": "abb09966",
   "metadata": {},
   "outputs": [
    {
     "data": {
      "text/html": [
       "<div>\n",
       "<style scoped>\n",
       "    .dataframe tbody tr th:only-of-type {\n",
       "        vertical-align: middle;\n",
       "    }\n",
       "\n",
       "    .dataframe tbody tr th {\n",
       "        vertical-align: top;\n",
       "    }\n",
       "\n",
       "    .dataframe thead th {\n",
       "        text-align: right;\n",
       "    }\n",
       "</style>\n",
       "<table border=\"1\" class=\"dataframe\">\n",
       "  <thead>\n",
       "    <tr style=\"text-align: right;\">\n",
       "      <th></th>\n",
       "      <th>patient_id</th>\n",
       "      <th>year</th>\n",
       "      <th>gender</th>\n",
       "      <th>age</th>\n",
       "    </tr>\n",
       "  </thead>\n",
       "  <tbody>\n",
       "    <tr>\n",
       "      <th>0</th>\n",
       "      <td>1.0</td>\n",
       "      <td>2002</td>\n",
       "      <td>2.0</td>\n",
       "      <td>2.0</td>\n",
       "    </tr>\n",
       "    <tr>\n",
       "      <th>1</th>\n",
       "      <td>2.0</td>\n",
       "      <td>2002</td>\n",
       "      <td>1.0</td>\n",
       "      <td>77.0</td>\n",
       "    </tr>\n",
       "    <tr>\n",
       "      <th>2</th>\n",
       "      <td>3.0</td>\n",
       "      <td>2002</td>\n",
       "      <td>2.0</td>\n",
       "      <td>10.0</td>\n",
       "    </tr>\n",
       "    <tr>\n",
       "      <th>3</th>\n",
       "      <td>4.0</td>\n",
       "      <td>2002</td>\n",
       "      <td>1.0</td>\n",
       "      <td>1.0</td>\n",
       "    </tr>\n",
       "    <tr>\n",
       "      <th>4</th>\n",
       "      <td>5.0</td>\n",
       "      <td>2002</td>\n",
       "      <td>1.0</td>\n",
       "      <td>49.0</td>\n",
       "    </tr>\n",
       "    <tr>\n",
       "      <th>...</th>\n",
       "      <td>...</td>\n",
       "      <td>...</td>\n",
       "      <td>...</td>\n",
       "      <td>...</td>\n",
       "    </tr>\n",
       "    <tr>\n",
       "      <th>107843</th>\n",
       "      <td>124818.0</td>\n",
       "      <td>2020</td>\n",
       "      <td>1.0</td>\n",
       "      <td>40.0</td>\n",
       "    </tr>\n",
       "    <tr>\n",
       "      <th>107844</th>\n",
       "      <td>124819.0</td>\n",
       "      <td>2020</td>\n",
       "      <td>1.0</td>\n",
       "      <td>2.0</td>\n",
       "    </tr>\n",
       "    <tr>\n",
       "      <th>107845</th>\n",
       "      <td>124820.0</td>\n",
       "      <td>2020</td>\n",
       "      <td>2.0</td>\n",
       "      <td>7.0</td>\n",
       "    </tr>\n",
       "    <tr>\n",
       "      <th>107846</th>\n",
       "      <td>124821.0</td>\n",
       "      <td>2020</td>\n",
       "      <td>1.0</td>\n",
       "      <td>63.0</td>\n",
       "    </tr>\n",
       "    <tr>\n",
       "      <th>107847</th>\n",
       "      <td>124822.0</td>\n",
       "      <td>2020</td>\n",
       "      <td>1.0</td>\n",
       "      <td>74.0</td>\n",
       "    </tr>\n",
       "  </tbody>\n",
       "</table>\n",
       "<p>107848 rows × 4 columns</p>\n",
       "</div>"
      ],
      "text/plain": [
       "        patient_id  year  gender   age\n",
       "0              1.0  2002     2.0   2.0\n",
       "1              2.0  2002     1.0  77.0\n",
       "2              3.0  2002     2.0  10.0\n",
       "3              4.0  2002     1.0   1.0\n",
       "4              5.0  2002     1.0  49.0\n",
       "...            ...   ...     ...   ...\n",
       "107843    124818.0  2020     1.0  40.0\n",
       "107844    124819.0  2020     1.0   2.0\n",
       "107845    124820.0  2020     2.0   7.0\n",
       "107846    124821.0  2020     1.0  63.0\n",
       "107847    124822.0  2020     1.0  74.0\n",
       "\n",
       "[107848 rows x 4 columns]"
      ]
     },
     "execution_count": 15,
     "metadata": {},
     "output_type": "execute_result"
    }
   ],
   "source": [
    "df_demo = pd.concat([df_00,\n",
    "                    df_02,\n",
    "                    df_04,\n",
    "                    df_06,\n",
    "                    df_08,\n",
    "                    df_10,\n",
    "                    df_12,\n",
    "                    df_14,\n",
    "                    df_16,\n",
    "                    df_20]).reset_index(drop = True)\n",
    "df_demo"
   ]
  },
  {
   "cell_type": "code",
   "execution_count": 16,
   "id": "33957873",
   "metadata": {},
   "outputs": [],
   "source": [
    "df_demo.to_csv('demo_python.csv', index=False)"
   ]
  }
 ],
 "metadata": {
  "kernelspec": {
   "display_name": "Python 3 (ipykernel)",
   "language": "python",
   "name": "python3"
  },
  "language_info": {
   "codemirror_mode": {
    "name": "ipython",
    "version": 3
   },
   "file_extension": ".py",
   "mimetype": "text/x-python",
   "name": "python",
   "nbconvert_exporter": "python",
   "pygments_lexer": "ipython3",
   "version": "3.9.7"
  }
 },
 "nbformat": 4,
 "nbformat_minor": 5
}
